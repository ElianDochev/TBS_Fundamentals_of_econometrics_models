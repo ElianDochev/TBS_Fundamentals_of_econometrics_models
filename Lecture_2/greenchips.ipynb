{
 "cells": [
  {
   "cell_type": "code",
   "execution_count": 2,
   "metadata": {},
   "outputs": [
    {
     "name": "stdout",
     "output_type": "stream",
     "text": [
      "                            OLS Regression Results                            \n",
      "==============================================================================\n",
      "Dep. Variable:                  SALES   R-squared:                       0.776\n",
      "Model:                            OLS   Adj. R-squared:                  0.774\n",
      "Method:                 Least Squares   F-statistic:                     353.7\n",
      "Date:                Tue, 22 Oct 2024   Prob (F-statistic):           6.28e-35\n",
      "Time:                        17:17:51   Log-Likelihood:                -510.34\n",
      "No. Observations:                 104   AIC:                             1025.\n",
      "Df Residuals:                     102   BIC:                             1030.\n",
      "Df Model:                           1                                         \n",
      "Covariance Type:            nonrobust                                         \n",
      "==============================================================================\n",
      "                 coef    std err          t      P>|t|      [0.025      0.975]\n",
      "------------------------------------------------------------------------------\n",
      "const        626.6142     26.359     23.772      0.000     574.331     678.898\n",
      "PRICE       -305.5635     16.248    -18.806      0.000    -337.791    -273.336\n",
      "==============================================================================\n",
      "Omnibus:                       12.193   Durbin-Watson:                   1.246\n",
      "Prob(Omnibus):                  0.002   Jarque-Bera (JB):               14.608\n",
      "Skew:                           0.648   Prob(JB):                     0.000673\n",
      "Kurtosis:                       4.300   Cond. No.                         18.2\n",
      "==============================================================================\n",
      "\n",
      "Notes:\n",
      "[1] Standard Errors assume that the covariance matrix of the errors is correctly specified.\n",
      "Correlation matrix:\n",
      "           WEEK     SALES     PRICE\n",
      "WEEK   1.000000 -0.212738  0.235431\n",
      "SALES -0.212738  1.000000 -0.880997\n",
      "PRICE  0.235431 -0.880997  1.000000\n",
      "\n",
      "R^2: 0.7761555275048472\n"
     ]
    }
   ],
   "source": [
    "import pandas as pd\n",
    "import numpy as np\n",
    "import statsmodels.api as sm\n",
    "\n",
    "# Open the CSV file with delimiter ';'\n",
    "df = pd.read_csv('greenchips.csv', delimiter=';')\n",
    "\n",
    "# Remove NAN columns (not the whole row)\n",
    "df = df.dropna(axis=1)\n",
    "df.head()\n",
    "\n",
    "# Extract and convert the 'PRICE' and 'SALES' columns to the correct format\n",
    "price = df['PRICE'].str.replace(',', '.').astype(float)\n",
    "sales = df['SALES'].str.replace(',', '.').astype(float)\n",
    "\n",
    "# Update the dataframe with the converted values\n",
    "df['PRICE'] = price\n",
    "df['SALES'] = sales\n",
    "\n",
    "# Add a constant (intercept) to the 'PRICE' data for the regression model\n",
    "X = sm.add_constant(price)\n",
    "\n",
    "# Fit the OLS regression model: sales = a + price * b\n",
    "model = sm.OLS(sales, X).fit()\n",
    "\n",
    "# Print the slope (coefficient) and intercept of the model\n",
    "print(model.summary())\n",
    "\n",
    "# Correlation matrix for the dataframe\n",
    "print('Correlation matrix:')\n",
    "print(df.corr(), end='\\n\\n')\n",
    "\n",
    "# R^2 value for the model\n",
    "r2 = model.rsquared\n",
    "print('R^2:', r2)\n"
   ]
  },
  {
   "cell_type": "markdown",
   "metadata": {},
   "source": []
  }
 ],
 "metadata": {
  "kernelspec": {
   "display_name": "tbs",
   "language": "python",
   "name": "python3"
  },
  "language_info": {
   "codemirror_mode": {
    "name": "ipython",
    "version": 3
   },
   "file_extension": ".py",
   "mimetype": "text/x-python",
   "name": "python",
   "nbconvert_exporter": "python",
   "pygments_lexer": "ipython3",
   "version": "3.10.14"
  }
 },
 "nbformat": 4,
 "nbformat_minor": 2
}
